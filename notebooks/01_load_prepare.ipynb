{
 "cells": [
  {
   "cell_type": "code",
   "execution_count": 1,
   "id": "8f9adcec",
   "metadata": {},
   "outputs": [],
   "source": [
    "from pathlib import Path\n",
    "import pandas as pd\n",
    "import sys\n",
    "import os\n",
    "# add project root to sys.path\n",
    "sys.path.append(os.path.abspath(\"..\"))\n",
    "\n",
    "from cdrlib.pipeline import load_all_days, build_master_parquet\n",
    "\n",
    "\n",
    "\n",
    "\n",
    "ROOT = Path.cwd().parent           # repo root \n",
    "DATA_DIR = ROOT / \"data\"\n",
    "OUT_PARQUET = ROOT / \"milan_cdr_master.parquet\"\n"
   ]
  },
  {
   "cell_type": "code",
   "execution_count": 6,
   "id": "a8071b3a",
   "metadata": {},
   "outputs": [
    {
     "data": {
      "text/plain": [
       "(7,\n",
       " WindowsPath('c:/Users/tempadmin.DESKTOP-C50JUBO/Desktop/DS Roadmap/CDR Mobility & Traffic Analytics Project/data/sms-call-internet-mi-2013-11-01.csv'),\n",
       " WindowsPath('c:/Users/tempadmin.DESKTOP-C50JUBO/Desktop/DS Roadmap/CDR Mobility & Traffic Analytics Project/data/sms-call-internet-mi-2013-11-07.csv'))"
      ]
     },
     "execution_count": 6,
     "metadata": {},
     "output_type": "execute_result"
    }
   ],
   "source": [
    "files = load_all_days(DATA_DIR, pattern=\"sms-call-internet-mi-*.csv\")\n",
    "len(files), files[0], files[-1]"
   ]
  },
  {
   "cell_type": "code",
   "execution_count": 7,
   "id": "8feae83d",
   "metadata": {},
   "outputs": [
    {
     "data": {
      "text/html": [
       "<div>\n",
       "<style scoped>\n",
       "    .dataframe tbody tr th:only-of-type {\n",
       "        vertical-align: middle;\n",
       "    }\n",
       "\n",
       "    .dataframe tbody tr th {\n",
       "        vertical-align: top;\n",
       "    }\n",
       "\n",
       "    .dataframe thead th {\n",
       "        text-align: right;\n",
       "    }\n",
       "</style>\n",
       "<table border=\"1\" class=\"dataframe\">\n",
       "  <thead>\n",
       "    <tr style=\"text-align: right;\">\n",
       "      <th></th>\n",
       "      <th>square_id</th>\n",
       "      <th>time_interval</th>\n",
       "      <th>sms_in</th>\n",
       "      <th>sms_out</th>\n",
       "      <th>call_in</th>\n",
       "      <th>call_out</th>\n",
       "      <th>internet</th>\n",
       "    </tr>\n",
       "  </thead>\n",
       "  <tbody>\n",
       "    <tr>\n",
       "      <th>0</th>\n",
       "      <td>1</td>\n",
       "      <td>2013-11-01 00:00:00</td>\n",
       "      <td>2.0843</td>\n",
       "      <td>1.1047</td>\n",
       "      <td>0.5919</td>\n",
       "      <td>0.4293</td>\n",
       "      <td>57.7990</td>\n",
       "    </tr>\n",
       "    <tr>\n",
       "      <th>1</th>\n",
       "      <td>1</td>\n",
       "      <td>2013-11-01 01:00:00</td>\n",
       "      <td>1.1637</td>\n",
       "      <td>0.7700</td>\n",
       "      <td>0.1906</td>\n",
       "      <td>0.1942</td>\n",
       "      <td>44.0469</td>\n",
       "    </tr>\n",
       "    <tr>\n",
       "      <th>2</th>\n",
       "      <td>1</td>\n",
       "      <td>2013-11-01 02:00:00</td>\n",
       "      <td>0.4156</td>\n",
       "      <td>0.3004</td>\n",
       "      <td>0.0279</td>\n",
       "      <td>0.1360</td>\n",
       "      <td>41.2071</td>\n",
       "    </tr>\n",
       "  </tbody>\n",
       "</table>\n",
       "</div>"
      ],
      "text/plain": [
       "   square_id       time_interval  sms_in  sms_out  call_in  call_out  internet\n",
       "0          1 2013-11-01 00:00:00  2.0843   1.1047   0.5919    0.4293   57.7990\n",
       "1          1 2013-11-01 01:00:00  1.1637   0.7700   0.1906    0.1942   44.0469\n",
       "2          1 2013-11-01 02:00:00  0.4156   0.3004   0.0279    0.1360   41.2071"
      ]
     },
     "execution_count": 7,
     "metadata": {},
     "output_type": "execute_result"
    }
   ],
   "source": [
    "cdr = build_master_parquet(files, OUT_PARQUET)\n",
    "cdr.head(3)"
   ]
  },
  {
   "cell_type": "code",
   "execution_count": 8,
   "id": "8a911c15",
   "metadata": {},
   "outputs": [
    {
     "name": "stdout",
     "output_type": "stream",
     "text": [
      "Rows: 1679994\n",
      "Date range: 2013-11-01 00:00:00 → 2013-11-07 23:00:00\n",
      "Unique cells: 10000\n"
     ]
    }
   ],
   "source": [
    "print(\"Rows:\", len(cdr))\n",
    "print(\"Date range:\", cdr[\"time_interval\"].min(), \"→\", cdr[\"time_interval\"].max())\n",
    "print(\"Unique cells:\", cdr[\"square_id\"].nunique())\n"
   ]
  },
  {
   "cell_type": "code",
   "execution_count": 9,
   "id": "b4bfbfdb",
   "metadata": {},
   "outputs": [
    {
     "name": "stderr",
     "output_type": "stream",
     "text": [
      "C:\\Users\\tempadmin.DESKTOP-C50JUBO\\AppData\\Local\\Temp\\ipykernel_18004\\812296581.py:6: UserWarning: Geometry is in a geographic CRS. Results from 'centroid' are likely incorrect. Use 'GeoSeries.to_crs()' to re-project geometries to a projected CRS before this operation.\n",
      "\n",
      "  cent = gdf.to_crs(4326).centroid\n"
     ]
    },
    {
     "data": {
      "text/html": [
       "<div>\n",
       "<style scoped>\n",
       "    .dataframe tbody tr th:only-of-type {\n",
       "        vertical-align: middle;\n",
       "    }\n",
       "\n",
       "    .dataframe tbody tr th {\n",
       "        vertical-align: top;\n",
       "    }\n",
       "\n",
       "    .dataframe thead th {\n",
       "        text-align: right;\n",
       "    }\n",
       "</style>\n",
       "<table border=\"1\" class=\"dataframe\">\n",
       "  <thead>\n",
       "    <tr style=\"text-align: right;\">\n",
       "      <th></th>\n",
       "      <th>square_id</th>\n",
       "      <th>lon</th>\n",
       "      <th>lat</th>\n",
       "    </tr>\n",
       "  </thead>\n",
       "  <tbody>\n",
       "    <tr>\n",
       "      <th>0</th>\n",
       "      <td>1</td>\n",
       "      <td>9.012991</td>\n",
       "      <td>45.357743</td>\n",
       "    </tr>\n",
       "    <tr>\n",
       "      <th>1</th>\n",
       "      <td>2</td>\n",
       "      <td>9.015991</td>\n",
       "      <td>45.357743</td>\n",
       "    </tr>\n",
       "    <tr>\n",
       "      <th>2</th>\n",
       "      <td>3</td>\n",
       "      <td>9.018992</td>\n",
       "      <td>45.357743</td>\n",
       "    </tr>\n",
       "    <tr>\n",
       "      <th>3</th>\n",
       "      <td>4</td>\n",
       "      <td>9.021992</td>\n",
       "      <td>45.357742</td>\n",
       "    </tr>\n",
       "    <tr>\n",
       "      <th>4</th>\n",
       "      <td>5</td>\n",
       "      <td>9.024993</td>\n",
       "      <td>45.357741</td>\n",
       "    </tr>\n",
       "  </tbody>\n",
       "</table>\n",
       "</div>"
      ],
      "text/plain": [
       "   square_id       lon        lat\n",
       "0          1  9.012991  45.357743\n",
       "1          2  9.015991  45.357743\n",
       "2          3  9.018992  45.357743\n",
       "3          4  9.021992  45.357742\n",
       "4          5  9.024993  45.357741"
      ]
     },
     "execution_count": 9,
     "metadata": {},
     "output_type": "execute_result"
    }
   ],
   "source": [
    "import geopandas as gpd\n",
    "\n",
    "gdf = gpd.read_file(DATA_DIR / \"milano-grid.geojson\")\n",
    "gdf[\"square_id\"] = gdf[\"cellId\"].astype(\"int32\")\n",
    "\n",
    "cent = gdf.to_crs(4326).centroid\n",
    "centroids = pd.DataFrame({\n",
    "    \"square_id\": gdf[\"square_id\"].astype(\"int32\"),\n",
    "    \"lon\": cent.x.round(6),\n",
    "    \"lat\": cent.y.round(6),\n",
    "})\n",
    "centroids.to_csv(ROOT / \"milan_cell_centroids.csv\", index=False)\n",
    "centroids.head()\n"
   ]
  },
  {
   "cell_type": "markdown",
   "id": "5263d547",
   "metadata": {},
   "source": [
    "## 📌 Conclusions (Notebook 1 — Data Loading & Preparation)\n",
    "\n",
    "- Successfully loaded all **raw daily CSVs** of Milan mobile phone activity.  \n",
    "- Built a unified **Parquet master dataset** (`milan_cdr_master.parquet`) with consistent schema.  \n",
    "- Extracted the official **grid cell centroids** from the GeoJSON and exported as CSV.  \n",
    "\n",
    "➡ Notebook 1 establishes the **data foundation**: clean, standardized, and geospatially enabled — ready for EDA and clustering in Notebook 2.\n"
   ]
  }
 ],
 "metadata": {
  "kernelspec": {
   "display_name": ".venv",
   "language": "python",
   "name": "python3"
  },
  "language_info": {
   "codemirror_mode": {
    "name": "ipython",
    "version": 3
   },
   "file_extension": ".py",
   "mimetype": "text/x-python",
   "name": "python",
   "nbconvert_exporter": "python",
   "pygments_lexer": "ipython3",
   "version": "3.11.9"
  }
 },
 "nbformat": 4,
 "nbformat_minor": 5
}
